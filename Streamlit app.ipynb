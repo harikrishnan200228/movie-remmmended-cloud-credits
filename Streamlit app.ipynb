{
 "cells": [
  {
   "cell_type": "code",
   "execution_count": 3,
   "id": "e345c239",
   "metadata": {},
   "outputs": [
    {
     "name": "stderr",
     "output_type": "stream",
     "text": [
      "2025-06-12 20:48:53.580 WARNING streamlit.runtime.scriptrunner_utils.script_run_context: Thread 'MainThread': missing ScriptRunContext! This warning can be ignored when running in bare mode.\n",
      "2025-06-12 20:48:53.903 \n",
      "  \u001b[33m\u001b[1mWarning:\u001b[0m to view this Streamlit app on a browser, run it with the following\n",
      "  command:\n",
      "\n",
      "    streamlit run c:\\Users\\SS\\AppData\\Local\\Programs\\Python\\Python313\\Lib\\site-packages\\ipykernel_launcher.py [ARGUMENTS]\n",
      "2025-06-12 20:48:53.904 Thread 'MainThread': missing ScriptRunContext! This warning can be ignored when running in bare mode.\n",
      "2025-06-12 20:48:53.908 Thread 'MainThread': missing ScriptRunContext! This warning can be ignored when running in bare mode.\n",
      "2025-06-12 20:48:53.909 Thread 'MainThread': missing ScriptRunContext! This warning can be ignored when running in bare mode.\n",
      "2025-06-12 20:48:53.910 Thread 'MainThread': missing ScriptRunContext! This warning can be ignored when running in bare mode.\n",
      "2025-06-12 20:48:53.912 Thread 'MainThread': missing ScriptRunContext! This warning can be ignored when running in bare mode.\n",
      "2025-06-12 20:48:53.914 Thread 'MainThread': missing ScriptRunContext! This warning can be ignored when running in bare mode.\n",
      "2025-06-12 20:48:53.953 Thread 'MainThread': missing ScriptRunContext! This warning can be ignored when running in bare mode.\n",
      "2025-06-12 20:48:53.954 Thread 'MainThread': missing ScriptRunContext! This warning can be ignored when running in bare mode.\n",
      "2025-06-12 20:48:53.955 Thread 'MainThread': missing ScriptRunContext! This warning can be ignored when running in bare mode.\n",
      "2025-06-12 20:48:53.956 Thread 'MainThread': missing ScriptRunContext! This warning can be ignored when running in bare mode.\n",
      "2025-06-12 20:48:53.957 Thread 'MainThread': missing ScriptRunContext! This warning can be ignored when running in bare mode.\n",
      "2025-06-12 20:48:53.990 Thread 'MainThread': missing ScriptRunContext! This warning can be ignored when running in bare mode.\n",
      "2025-06-12 20:48:53.991 Thread 'MainThread': missing ScriptRunContext! This warning can be ignored when running in bare mode.\n",
      "2025-06-12 20:48:53.992 Thread 'MainThread': missing ScriptRunContext! This warning can be ignored when running in bare mode.\n",
      "2025-06-12 20:48:53.993 Thread 'MainThread': missing ScriptRunContext! This warning can be ignored when running in bare mode.\n",
      "2025-06-12 20:48:53.994 Thread 'MainThread': missing ScriptRunContext! This warning can be ignored when running in bare mode.\n",
      "2025-06-12 20:48:53.995 Thread 'MainThread': missing ScriptRunContext! This warning can be ignored when running in bare mode.\n",
      "2025-06-12 20:48:54.042 Thread 'MainThread': missing ScriptRunContext! This warning can be ignored when running in bare mode.\n",
      "2025-06-12 20:48:54.044 Thread 'MainThread': missing ScriptRunContext! This warning can be ignored when running in bare mode.\n",
      "2025-06-12 20:48:54.045 Thread 'MainThread': missing ScriptRunContext! This warning can be ignored when running in bare mode.\n",
      "2025-06-12 20:48:54.046 Thread 'MainThread': missing ScriptRunContext! This warning can be ignored when running in bare mode.\n",
      "2025-06-12 20:48:55.129 Thread 'MainThread': missing ScriptRunContext! This warning can be ignored when running in bare mode.\n",
      "2025-06-12 20:48:55.131 Thread 'MainThread': missing ScriptRunContext! This warning can be ignored when running in bare mode.\n"
     ]
    }
   ],
   "source": [
    "import streamlit as st\n",
    "import pandas as pd\n",
    "\n",
    "# Load data\n",
    "df = pd.read_csv(r\"C:\\Users\\SS\\Downloads\\cleaned_movies.csv\")\n",
    "df['genre_list'] = df['genre_list'].apply(lambda x: eval(x) if isinstance(x, str) else [])\n",
    "\n",
    "# Sidebar filters\n",
    "st.sidebar.header(\"Filter Options\")\n",
    "\n",
    "# Year filter\n",
    "year_range = st.sidebar.slider(\"Select Year Range\", int(df['year'].min()), int(df['year'].max()), (1990, 2000))\n",
    "\n",
    "# Genre filter\n",
    "all_genres = sorted(set(g for sublist in df['genre_list'] for g in sublist))\n",
    "selected_genres = st.sidebar.multiselect(\"Select Genres\", all_genres)\n",
    "\n",
    "# Filter dataset\n",
    "filtered_df = df[\n",
    "    (df['year'].between(*year_range)) &\n",
    "    (df['genre_list'].apply(lambda x: any(g in x for g in selected_genres) if selected_genres else True))\n",
    "]\n",
    "\n",
    "# Main content\n",
    "st.title(\"🎬 Movie Dataset Explorer\")\n",
    "\n",
    "st.write(f\"Showing **{len(filtered_df)}** movies from **{year_range[0]} to {year_range[1]}**\")\n",
    "st.dataframe(filtered_df[['clean_title', 'year', 'genre_list']])\n",
    "\n",
    "# Genre distribution\n",
    "if not filtered_df.empty:\n",
    "    st.subheader(\"📊 Genre Distribution\")\n",
    "    genre_counts = pd.Series([genre for genres in filtered_df['genre_list'] for genre in genres]).value_counts()\n",
    "    st.bar_chart(genre_counts)\n"
   ]
  }
 ],
 "metadata": {
  "kernelspec": {
   "display_name": "Python (myenv)",
   "language": "python",
   "name": "myenv"
  },
  "language_info": {
   "codemirror_mode": {
    "name": "ipython",
    "version": 3
   },
   "file_extension": ".py",
   "mimetype": "text/x-python",
   "name": "python",
   "nbconvert_exporter": "python",
   "pygments_lexer": "ipython3",
   "version": "3.13.2"
  }
 },
 "nbformat": 4,
 "nbformat_minor": 5
}
