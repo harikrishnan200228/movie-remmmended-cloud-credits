{
 "cells": [
  {
   "cell_type": "code",
   "execution_count": null,
   "id": "51d11707",
   "metadata": {},
   "outputs": [],
   "source": [
    "streamlit\n",
    "scikit-learn\n",
    "pandas\n",
    "joblib\n",
    "matplotlib\n"
   ]
  }
 ],
 "metadata": {
  "language_info": {
   "name": "python"
  }
 },
 "nbformat": 4,
 "nbformat_minor": 5
}
